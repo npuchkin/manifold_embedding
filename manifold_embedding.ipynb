{
 "cells": [
  {
   "cell_type": "code",
   "execution_count": 1,
   "metadata": {
    "collapsed": false
   },
   "outputs": [],
   "source": [
    "import cvxpy as cvx\n",
    "import numpy as np\n",
    "import scipy as sc\n",
    "from sklearn.datasets import make_swiss_roll\n",
    "import matplotlib.pyplot as plt\n",
    "from mpl_toolkits.mplot3d import Axes3D\n",
    "from scipy.spatial.distance import pdist\n",
    "from scipy.spatial.distance import squareform\n",
    "from sklearn.metrics.pairwise import cosine_similarity\n",
    "from sklearn.manifold import Isomap\n",
    "from sklearn.preprocessing import normalize"
   ]
  },
  {
   "cell_type": "code",
   "execution_count": 2,
   "metadata": {
    "collapsed": true
   },
   "outputs": [],
   "source": [
    "np.random.seed(1)"
   ]
  },
  {
   "cell_type": "markdown",
   "metadata": {},
   "source": [
    "## Embedding procedure"
   ]
  },
  {
   "cell_type": "code",
   "execution_count": 3,
   "metadata": {
    "collapsed": true
   },
   "outputs": [],
   "source": [
    "# Embedding of a point cloud in R^d by pairwise distances\n",
    "#\n",
    "# p_dist -- matrix of pairwise distances\n",
    "#\n",
    "# d -- dimension of the embedding\n",
    "#\n",
    "# eps -- radius of localization\n",
    "#\n",
    "# C = min{2/pi, 2*reach(M) / int_diam(M)} -- parameter of the procedure\n",
    "# int_diam(M) -- intrinsic diameter of M\n",
    "\n",
    "def make_embedding(p_dist, d, eps, C):\n",
    "    \n",
    "    # Semi-definite convex program\n",
    "    \n",
    "    # squared distances\n",
    "    sD = p_dist**2\n",
    "    \n",
    "    # variables\n",
    "    K = cvx.Variable((n,n), symmetric=True)\n",
    "    t = cvx.Variable(1)\n",
    "\n",
    "    # objective\n",
    "    obj = cvx.Minimize(t)\n",
    "\n",
    "    # constraints\n",
    "    constraints = [K >> 0]\n",
    "\n",
    "    for i in range(n):\n",
    "        for j in range(i+1, n):\n",
    "        \n",
    "            constraints += [K[i, i] + K[j,j] - 2*K[i,j] >= C**2 * sD[i,j]]\n",
    "            \n",
    "            if (p_dist[i, j] < eps):\n",
    "\n",
    "                constraints += [K[i, i] + K[j,j] - 2*K[i,j] - sD[i, j] <= t * sD[i, j]]\n",
    "                constraints += [K[i, i] + K[j,j] - 2*K[i,j] - sD[i, j] >= -t * sD[i, j]]\n",
    "\n",
    "    print('Total number of constraints:', len(constraints))\n",
    "\n",
    "    \n",
    "    # Solve the problem of convex SDP with given\n",
    "    # objective and constraints\n",
    "    prob = cvx.Problem(obj, constraints)\n",
    "    \n",
    "    # value of the target functional\n",
    "    result = prob.solve(solver='SCS')\n",
    "    #result = prob.solve(solver='SCS', max_iters=100, eps=1e-3)\n",
    "\n",
    "    # matrix of pairwise distances\n",
    "    K_opt = np.array(K.value)\n",
    "    print(K_opt.shape)\n",
    "    \n",
    "    # value of the target functional\n",
    "    t_opt = np.array(t.value)\n",
    "    \n",
    "    # recover the embedding from the Gram matrix\n",
    "    \n",
    "    # perform SVD\n",
    "    u, sigma, v = np.linalg.svd(K_opt, full_matrices=False)\n",
    "\n",
    "    # embedding\n",
    "    Y = u[:, :d] @ np.diag(sigma[:d]**0.5)\n",
    "    \n",
    "    return Y, t_opt"
   ]
  },
  {
   "cell_type": "markdown",
   "metadata": {},
   "source": [
    "## Segment example"
   ]
  },
  {
   "cell_type": "code",
   "execution_count": 4,
   "metadata": {
    "collapsed": false
   },
   "outputs": [
    {
     "name": "stdout",
     "output_type": "stream",
     "text": [
      "(100, 1)\n",
      "D = 1.0\n"
     ]
    }
   ],
   "source": [
    "# Generate data\n",
    "\n",
    "# number of samples\n",
    "n = 100\n",
    "\n",
    "# noise\n",
    "noise_level = 0\n",
    "\n",
    "# generate points on [0, 1]\n",
    "X = np.linspace(0, 1, n).reshape(-1, 1)\n",
    "print(X.shape)\n",
    "\n",
    "# compute pairwise Euclidean distances\n",
    "p_dist = squareform(pdist(X))\n",
    "\n",
    "# print the diameter\n",
    "D = np.max(p_dist)\n",
    "print('D =', D)"
   ]
  },
  {
   "cell_type": "code",
   "execution_count": 5,
   "metadata": {
    "collapsed": false
   },
   "outputs": [
    {
     "name": "stdout",
     "output_type": "stream",
     "text": [
      "Total number of constraints: 8371\n",
      "(100, 100)\n"
     ]
    }
   ],
   "source": [
    "# Perform the embedding\n",
    "\n",
    "# parameters of the procedure\n",
    "d = 2\n",
    "eps = 0.2\n",
    "\n",
    "Y, t = make_embedding(p_dist, d=d, eps=eps, C=2/np.pi)"
   ]
  },
  {
   "cell_type": "code",
   "execution_count": 6,
   "metadata": {
    "collapsed": false
   },
   "outputs": [
    {
     "name": "stdout",
     "output_type": "stream",
     "text": [
      "Value of the target functional: [0.00020894]\n",
      "Average difference between pairwise distances: 0.0008857561583766968\n"
     ]
    }
   ],
   "source": [
    "# print the value of the target functional\n",
    "print('Value of the target functional:', t)\n",
    "\n",
    "# compare the pairwise distances of the embedding\n",
    "# with the initial ones\n",
    "\n",
    "p_dist_new = squareform(pdist(Y))\n",
    "\n",
    "print('Average difference between pairwise distances:',\\\n",
    "      np.linalg.norm((p_dist_new - p_dist) / (p_dist + np.eye(n)), ord='fro') / n)"
   ]
  },
  {
   "cell_type": "code",
   "execution_count": 7,
   "metadata": {
    "collapsed": false
   },
   "outputs": [
    {
     "data": {
      "image/png": "[encoded data removed]",
      "text/plain": [
       "<matplotlib.figure.Figure at 0x10591c6a0>"
      ]
     },
     "metadata": {},
     "output_type": "display_data"
    }
   ],
   "source": [
    "# Plot the manifold\n",
    "%matplotlib inline\n",
    "\n",
    "fig = plt.figure(figsize=(7, 7))\n",
    "ax = fig.add_subplot(111, projection='3d')\n",
    "ax.plot(Y[:, 0], Y[:, 1], 'bo')\n",
    "ax.axis('off')\n",
    "ax.set_xlim(0, 1)\n",
    "ax.set_ylim(-0.5, 0.5)\n",
    "\n",
    "plt.show()"
   ]
  },
  {
   "cell_type": "markdown",
   "metadata": {},
   "source": [
    "## Sphere example 1: points on the grid"
   ]
  },
  {
   "cell_type": "code",
   "execution_count": 8,
   "metadata": {
    "collapsed": false
   },
   "outputs": [
    {
     "name": "stdout",
     "output_type": "stream",
     "text": [
      "(100, 3)\n",
      "D = 3.141592653589793\n"
     ]
    }
   ],
   "source": [
    "# Generate data\n",
    "\n",
    "# number of samples\n",
    "n_1 = 10\n",
    "n_2 = 10\n",
    "\n",
    "n = n_1 * n_2\n",
    "\n",
    "# points on a grid on unit sphere\n",
    "\n",
    "# generate spherical coordinates\n",
    "phi = np.linspace(0, 2 * np.pi, n_1+1)[:-1]\n",
    "theta = np.linspace(0, np.pi, n_2 + 2)[1:-1]\n",
    "\n",
    "# generate points on unit sphere\n",
    "\n",
    "X = np.append(np.outer(np.cos(phi), np.sin(theta)).reshape(-1, 1),\\\n",
    "              np.outer(np.sin(phi), np.sin(theta)). reshape(-1, 1), axis=1)\n",
    "X = np.append(X, np.outer(np.ones(np.size(phi)), np.cos(theta)).reshape(-1, 1), axis=1)\n",
    "\n",
    "# compute pairwise distances on sphere\n",
    "p_dist = np.real(np.lib.scimath.arccos(cosine_similarity(X)))\n",
    "\n",
    "print(X.shape)\n",
    "\n",
    "# print the diameter\n",
    "D = np.max(p_dist)\n",
    "print('D =', D)"
   ]
  },
  {
   "cell_type": "code",
   "execution_count": 9,
   "metadata": {
    "collapsed": false
   },
   "outputs": [
    {
     "name": "stdout",
     "output_type": "stream",
     "text": [
      "Total number of constraints: 5911\n",
      "(100, 100)\n"
     ]
    }
   ],
   "source": [
    "# Perform the embedding\n",
    "\n",
    "# parameters of the procedure\n",
    "d = 3\n",
    "eps = 0.6\n",
    "\n",
    "Y, t = make_embedding(p_dist, d=d, eps=eps, C=2/np.pi)"
   ]
  },
  {
   "cell_type": "code",
   "execution_count": 10,
   "metadata": {
    "collapsed": false
   },
   "outputs": [
    {
     "name": "stdout",
     "output_type": "stream",
     "text": [
      "Value of the target functional: [0.00058104]\n",
      "Average difference between pairwise distances: 0.1370892050641273\n"
     ]
    }
   ],
   "source": [
    "# print the value of the target functional\n",
    "print('Value of the target functional:', t)\n",
    "\n",
    "\n",
    "# compare the pairwise distances of the embedding\n",
    "# with the initial ones\n",
    "\n",
    "# compute approximate pairwise distances of the embedding\n",
    "isomap = Isomap(n_neighbors=n-1, n_components=2)\n",
    "isomap.fit(Y)\n",
    "p_dist_new = isomap.dist_matrix_\n",
    "\n",
    "print('Average difference between pairwise distances:', \\\n",
    "      np.linalg.norm((p_dist_new - p_dist) / (p_dist + np.eye(n)), ord='fro') / n)"
   ]
  },
  {
   "cell_type": "code",
   "execution_count": 11,
   "metadata": {
    "collapsed": false
   },
   "outputs": [
    {
     "data": {
      "image/png": "[encoded data removed]",
      "text/plain": [
       "<matplotlib.figure.Figure at 0x11a969ef0>"
      ]
     },
     "metadata": {},
     "output_type": "display_data"
    }
   ],
   "source": [
    "# Plot the points on sphere\n",
    "\n",
    "%matplotlib inline\n",
    "\n",
    "fig = plt.figure(figsize=(14, 7))\n",
    "ax = fig.add_subplot(121, projection='3d')\n",
    "ax.plot(X[:, 0], X[:, 1], X[:, 2], 'go')\n",
    "ax.axis('off')\n",
    "\n",
    "ax = fig.add_subplot(122, projection='3d')\n",
    "ax.plot(Y[:, 0], Y[:, 1], Y[:, 2], 'bo')\n",
    "ax.axis('off')\n",
    "\n",
    "plt.show()"
   ]
  },
  {
   "cell_type": "markdown",
   "metadata": {},
   "source": [
    "## Sphere example 2: uniform distribution"
   ]
  },
  {
   "cell_type": "code",
   "execution_count": 12,
   "metadata": {
    "collapsed": false
   },
   "outputs": [
    {
     "name": "stdout",
     "output_type": "stream",
     "text": [
      "(100, 3)\n",
      "D = 3.1133444106341464\n"
     ]
    }
   ],
   "source": [
    "# Generate data\n",
    "\n",
    "# number of samples\n",
    "n_1 = 10\n",
    "n_2 = 10\n",
    "\n",
    "n = n_1 * n_2\n",
    "\n",
    "# points drawn from uniform distribution on unit sphere\n",
    "X = np.random.randn(n, 3)\n",
    "X = normalize(X)\n",
    "\n",
    "# compute pairwise distances on sphere\n",
    "sphere_p_dist = np.real(np.lib.scimath.arccos(cosine_similarity(X)))\n",
    "\n",
    "print(X.shape)\n",
    "\n",
    "# print the diameter\n",
    "D = np.max(sphere_p_dist)\n",
    "print('D =', D)"
   ]
  },
  {
   "cell_type": "code",
   "execution_count": 13,
   "metadata": {
    "collapsed": false
   },
   "outputs": [
    {
     "name": "stdout",
     "output_type": "stream",
     "text": [
      "Total number of constraints: 5789\n",
      "(100, 100)\n"
     ]
    }
   ],
   "source": [
    "# Perform the embedding\n",
    "\n",
    "# parameters of the procedure\n",
    "d=3\n",
    "eps=0.6\n",
    "\n",
    "Y, t = make_embedding(sphere_p_dist, d=d, eps=eps, C=2/np.pi)"
   ]
  },
  {
   "cell_type": "code",
   "execution_count": 14,
   "metadata": {
    "collapsed": false
   },
   "outputs": [
    {
     "name": "stdout",
     "output_type": "stream",
     "text": [
      "Value of the target functional: [0.00031068]\n",
      "Average difference between pairwise distances: 0.16117679447358793\n"
     ]
    }
   ],
   "source": [
    "# print the value of the target functional\n",
    "print('Value of the target functional:', t)\n",
    "\n",
    "# compute approximate pairwise distances of the embedding\n",
    "isomap = Isomap(n_neighbors=n-1, n_components=2)\n",
    "isomap.fit(Y)\n",
    "sphere_p_dist_new = isomap.dist_matrix_\n",
    "\n",
    "# compare the pairwise distances of the embedding\n",
    "# with the initial ones\n",
    "print('Average difference between pairwise distances:', \\\n",
    "      np.linalg.norm((sphere_p_dist_new - sphere_p_dist) / (sphere_p_dist + np.eye(n)), ord='fro') / n)"
   ]
  },
  {
   "cell_type": "code",
   "execution_count": 15,
   "metadata": {
    "collapsed": false
   },
   "outputs": [
    {
     "data": {
      "image/png": "[encoded data removed]",
      "text/plain": [
       "<matplotlib.figure.Figure at 0x119d2d358>"
      ]
     },
     "metadata": {},
     "output_type": "display_data"
    }
   ],
   "source": [
    "# Plot the points on sphere\n",
    "\n",
    "%matplotlib inline\n",
    "\n",
    "fig = plt.figure(figsize=(14, 7))\n",
    "\n",
    "ax = fig.add_subplot(121, projection='3d')\n",
    "ax.plot(X[:, 0], X[:, 1], X[:, 2], 'go')\n",
    "ax.axis('off')\n",
    "\n",
    "ax = fig.add_subplot(122, projection='3d')\n",
    "ax.plot(Y[:, 0], Y[:, 1], Y[:, 2], 'bo')\n",
    "ax.axis('off')\n",
    "\n",
    "plt.show()"
   ]
  },
  {
   "cell_type": "markdown",
   "metadata": {},
   "source": [
    "## Swiss Roll example 1: Euclidean distances"
   ]
  },
  {
   "cell_type": "code",
   "execution_count": 16,
   "metadata": {
    "collapsed": false
   },
   "outputs": [
    {
     "name": "stdout",
     "output_type": "stream",
     "text": [
      "(100, 3)\n"
     ]
    }
   ],
   "source": [
    "# Generate data\n",
    "\n",
    "# number of samples\n",
    "n = 100\n",
    "\n",
    "# noise\n",
    "noise_level = 0\n",
    "\n",
    "# data\n",
    "X, t = make_swiss_roll(n_samples=n, noise=noise_level, random_state=1)\n",
    "\n",
    "print(X.shape)"
   ]
  },
  {
   "cell_type": "code",
   "execution_count": 17,
   "metadata": {
    "collapsed": false
   },
   "outputs": [],
   "source": [
    "# Compute pairwise distances\n",
    "\n",
    "# Euclidean distances\n",
    "p_dist = squareform(pdist(X))"
   ]
  },
  {
   "cell_type": "code",
   "execution_count": 18,
   "metadata": {
    "collapsed": false
   },
   "outputs": [
    {
     "name": "stdout",
     "output_type": "stream",
     "text": [
      "Total number of constraints: 5079\n",
      "(100, 100)\n"
     ]
    }
   ],
   "source": [
    "# Perform the embedding\n",
    "\n",
    "# parameters of the procedure\n",
    "d = 3\n",
    "eps = 3\n",
    "\n",
    "Y, obj = make_embedding(p_dist, d=d, eps=eps, C=2 / np.pi)"
   ]
  },
  {
   "cell_type": "code",
   "execution_count": 19,
   "metadata": {
    "collapsed": false
   },
   "outputs": [
    {
     "name": "stdout",
     "output_type": "stream",
     "text": [
      "Value of the target functional: [-0.00014756]\n",
      "Average difference between pairwise distances: 0.40094740966709325\n"
     ]
    }
   ],
   "source": [
    "# print the value of the target functional\n",
    "print('Value of the target functional:', obj)\n",
    "\n",
    "\n",
    "# compare the pairwise distances of the embedding\n",
    "# with the initial ones\n",
    "\n",
    "p_dist_new = squareform(pdist(Y))\n",
    "\n",
    "print('Average difference between pairwise distances:', \\\n",
    "      np.linalg.norm((p_dist_new - p_dist) / (p_dist + np.eye(n)), ord='fro') / n)"
   ]
  },
  {
   "cell_type": "code",
   "execution_count": 20,
   "metadata": {
    "collapsed": false
   },
   "outputs": [
    {
     "data": {
      "image/png": "[encoded data removed]",
      "text/plain": [
       "<matplotlib.figure.Figure at 0x12048deb8>"
      ]
     },
     "metadata": {},
     "output_type": "display_data"
    }
   ],
   "source": [
    "# Plot the manifold\n",
    "%matplotlib inline\n",
    "\n",
    "fig = plt.figure(figsize=(21, 7))\n",
    "\n",
    "ax = fig.add_subplot(131, projection='3d')\n",
    "ax.scatter(X[:, 0], X[:, 1], X[:, 2], c=t, cmap=plt.cm.Spectral)\n",
    "ax.axis('off')\n",
    "\n",
    "ax = fig.add_subplot(132)\n",
    "ax.scatter(X[:, 0], X[:, 2], c=t, cmap=plt.cm.Spectral)\n",
    "ax.axis('off')\n",
    "\n",
    "ax = fig.add_subplot(133, projection='3d')\n",
    "ax.plot(Y[:, 0], Y[:, 1], Y[:, 2], 'bo')\n",
    "ax.axis('off')\n",
    "\n",
    "plt.show()"
   ]
  },
  {
   "cell_type": "markdown",
   "metadata": {},
   "source": [
    "## Swiss Roll example 2: distances along manifold"
   ]
  },
  {
   "cell_type": "code",
   "execution_count": 21,
   "metadata": {
    "collapsed": false
   },
   "outputs": [],
   "source": [
    "# Distances along the Swiss Roll manifold\n",
    "\n",
    "def dist_swiss_roll(X, t):\n",
    "    \n",
    "    Y = np.append(X[:, 1].reshape(-1, 1), t.reshape(-1, 1), axis=1)\n",
    "    \n",
    "    D = squareform(pdist(Y))\n",
    "    \n",
    "    return D"
   ]
  },
  {
   "cell_type": "code",
   "execution_count": 22,
   "metadata": {
    "collapsed": false
   },
   "outputs": [
    {
     "name": "stdout",
     "output_type": "stream",
     "text": [
      "(100, 3)\n"
     ]
    }
   ],
   "source": [
    "# Generate data\n",
    "\n",
    "# number of samples\n",
    "n = 100\n",
    "\n",
    "# noise\n",
    "noise_level = 0\n",
    "\n",
    "# data\n",
    "X, t = make_swiss_roll(n_samples=n, noise=noise_level, random_state=1)\n",
    "\n",
    "print(X.shape)"
   ]
  },
  {
   "cell_type": "code",
   "execution_count": 23,
   "metadata": {
    "collapsed": false
   },
   "outputs": [
    {
     "name": "stdout",
     "output_type": "stream",
     "text": [
      "D = 21.70354178109025\n"
     ]
    }
   ],
   "source": [
    "# Compute pairwise distances\n",
    "\n",
    "# Distances along manifold\n",
    "p_dist = dist_swiss_roll(X, t)\n",
    "\n",
    "# print the diameter\n",
    "D = np.max(p_dist)\n",
    "print('D =', D)"
   ]
  },
  {
   "cell_type": "code",
   "execution_count": 24,
   "metadata": {
    "collapsed": false
   },
   "outputs": [
    {
     "data": {
      "text/plain": [
       "0.07235023041474654"
      ]
     },
     "execution_count": 24,
     "metadata": {},
     "output_type": "execute_result"
    }
   ],
   "source": [
    "3.14 / 2 / 21.7"
   ]
  },
  {
   "cell_type": "code",
   "execution_count": 25,
   "metadata": {
    "collapsed": false
   },
   "outputs": [
    {
     "name": "stdout",
     "output_type": "stream",
     "text": [
      "Total number of constraints: 6001\n",
      "(100, 100)\n"
     ]
    }
   ],
   "source": [
    "# Perform the embedding\n",
    "\n",
    "# parameters of the procedure\n",
    "d = 2\n",
    "eps = 3\n",
    "\n",
    "Y, obj = make_embedding(p_dist, d=d, eps=eps, C=2/np.pi)"
   ]
  },
  {
   "cell_type": "code",
   "execution_count": 26,
   "metadata": {
    "collapsed": false
   },
   "outputs": [
    {
     "name": "stdout",
     "output_type": "stream",
     "text": [
      "Value of the target functional: [0.00025378]\n",
      "Average difference between pairwise distances: 0.2847552999060454\n"
     ]
    }
   ],
   "source": [
    "# print the value of the target functional\n",
    "print('Value of the target functional:', obj)\n",
    "\n",
    "\n",
    "# compare the pairwise distances of the embedding\n",
    "# with the initial ones\n",
    "\n",
    "p_dist_new = squareform(pdist(Y))\n",
    "\n",
    "print('Average difference between pairwise distances:', \\\n",
    "      np.linalg.norm((p_dist_new - p_dist) / (p_dist + np.eye(n)), ord='fro') / n)"
   ]
  },
  {
   "cell_type": "code",
   "execution_count": 27,
   "metadata": {
    "collapsed": false
   },
   "outputs": [
    {
     "data": {
      "image/png": "[encoded data removed]",
      "text/plain": [
       "<matplotlib.figure.Figure at 0x122bc3c88>"
      ]
     },
     "metadata": {},
     "output_type": "display_data"
    }
   ],
   "source": [
    "# Plot the manifold\n",
    "%matplotlib inline\n",
    "\n",
    "fig = plt.figure(figsize=(21, 7))\n",
    "\n",
    "ax = fig.add_subplot(131, projection='3d')\n",
    "ax.scatter(X[:, 0], X[:, 1], X[:, 2], c=t, cmap=plt.cm.Spectral)\n",
    "ax.axis('off')\n",
    "\n",
    "ax = fig.add_subplot(132)\n",
    "ax.scatter(X[:, 0], X[:, 2], c=t, cmap=plt.cm.Spectral)\n",
    "ax.axis('off')\n",
    "\n",
    "ax = fig.add_subplot(133)\n",
    "ax.scatter(Y[:, 0], Y[:, 1], c=t, cmap=plt.cm.Spectral)\n",
    "plt.axis('off')\n",
    "\n",
    "plt.show()"
   ]
  },
  {
   "cell_type": "code",
   "execution_count": null,
   "metadata": {
    "collapsed": true
   },
   "outputs": [],
   "source": []
  }
 ],
 "metadata": {
  "kernelspec": {
   "display_name": "Python 3",
   "language": "python",
   "name": "python3"
  },
  "language_info": {
   "codemirror_mode": {
    "name": "ipython",
    "version": 3
   },
   "file_extension": ".py",
   "mimetype": "text/x-python",
   "name": "python",
   "nbconvert_exporter": "python",
   "pygments_lexer": "ipython3",
   "version": "3.6.8"
  }
 },
 "nbformat": 4,
 "nbformat_minor": 2
}
